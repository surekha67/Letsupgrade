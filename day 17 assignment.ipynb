{
 "cells": [
  {
   "cell_type": "code",
   "execution_count": 2,
   "metadata": {},
   "outputs": [],
   "source": [
    "import pandas as pd\n",
    "import numpy as np"
   ]
  },
  {
   "cell_type": "code",
   "execution_count": 3,
   "metadata": {},
   "outputs": [
    {
     "data": {
      "text/html": [
       "<div>\n",
       "<style scoped>\n",
       "    .dataframe tbody tr th:only-of-type {\n",
       "        vertical-align: middle;\n",
       "    }\n",
       "\n",
       "    .dataframe tbody tr th {\n",
       "        vertical-align: top;\n",
       "    }\n",
       "\n",
       "    .dataframe thead th {\n",
       "        text-align: right;\n",
       "    }\n",
       "</style>\n",
       "<table border=\"1\" class=\"dataframe\">\n",
       "  <thead>\n",
       "    <tr style=\"text-align: right;\">\n",
       "      <th></th>\n",
       "      <th>title</th>\n",
       "      <th>year</th>\n",
       "    </tr>\n",
       "  </thead>\n",
       "  <tbody>\n",
       "    <tr>\n",
       "      <th>0</th>\n",
       "      <td>Tasveer Mere Sanam</td>\n",
       "      <td>1996</td>\n",
       "    </tr>\n",
       "    <tr>\n",
       "      <th>1</th>\n",
       "      <td>Only You</td>\n",
       "      <td>1994</td>\n",
       "    </tr>\n",
       "    <tr>\n",
       "      <th>2</th>\n",
       "      <td>El pueblo del terror</td>\n",
       "      <td>1970</td>\n",
       "    </tr>\n",
       "    <tr>\n",
       "      <th>3</th>\n",
       "      <td>Machine</td>\n",
       "      <td>2007</td>\n",
       "    </tr>\n",
       "    <tr>\n",
       "      <th>4</th>\n",
       "      <td>MARy</td>\n",
       "      <td>2008</td>\n",
       "    </tr>\n",
       "    <tr>\n",
       "      <th>...</th>\n",
       "      <td>...</td>\n",
       "      <td>...</td>\n",
       "    </tr>\n",
       "    <tr>\n",
       "      <th>244909</th>\n",
       "      <td>Black Butterfly in a Colorful World</td>\n",
       "      <td>2018</td>\n",
       "    </tr>\n",
       "    <tr>\n",
       "      <th>244910</th>\n",
       "      <td>Hua fei hua wu chun man cheng</td>\n",
       "      <td>1980</td>\n",
       "    </tr>\n",
       "    <tr>\n",
       "      <th>244911</th>\n",
       "      <td>Nippon dabi katsukyu</td>\n",
       "      <td>1970</td>\n",
       "    </tr>\n",
       "    <tr>\n",
       "      <th>244912</th>\n",
       "      <td>Under Siege 2: Dark Territory</td>\n",
       "      <td>1995</td>\n",
       "    </tr>\n",
       "    <tr>\n",
       "      <th>244913</th>\n",
       "      <td>She Must Be Seeing Things</td>\n",
       "      <td>1987</td>\n",
       "    </tr>\n",
       "  </tbody>\n",
       "</table>\n",
       "<p>244914 rows × 2 columns</p>\n",
       "</div>"
      ],
      "text/plain": [
       "                                      title  year\n",
       "0                        Tasveer Mere Sanam  1996\n",
       "1                                  Only You  1994\n",
       "2                      El pueblo del terror  1970\n",
       "3                                   Machine  2007\n",
       "4                                      MARy  2008\n",
       "...                                     ...   ...\n",
       "244909  Black Butterfly in a Colorful World  2018\n",
       "244910        Hua fei hua wu chun man cheng  1980\n",
       "244911                 Nippon dabi katsukyu  1970\n",
       "244912        Under Siege 2: Dark Territory  1995\n",
       "244913            She Must Be Seeing Things  1987\n",
       "\n",
       "[244914 rows x 2 columns]"
      ]
     },
     "execution_count": 3,
     "metadata": {},
     "output_type": "execute_result"
    }
   ],
   "source": [
    "df = pd.read_csv(r\"C:\\Users\\HP\\Documents\\aiml assignments\\titles.csv\")\n",
    "df"
   ]
  },
  {
   "cell_type": "code",
   "execution_count": 4,
   "metadata": {},
   "outputs": [
    {
     "data": {
      "text/html": [
       "<div>\n",
       "<style scoped>\n",
       "    .dataframe tbody tr th:only-of-type {\n",
       "        vertical-align: middle;\n",
       "    }\n",
       "\n",
       "    .dataframe tbody tr th {\n",
       "        vertical-align: top;\n",
       "    }\n",
       "\n",
       "    .dataframe thead th {\n",
       "        text-align: right;\n",
       "    }\n",
       "</style>\n",
       "<table border=\"1\" class=\"dataframe\">\n",
       "  <thead>\n",
       "    <tr style=\"text-align: right;\">\n",
       "      <th></th>\n",
       "      <th>title</th>\n",
       "      <th>year</th>\n",
       "    </tr>\n",
       "  </thead>\n",
       "  <tbody>\n",
       "    <tr>\n",
       "      <th>0</th>\n",
       "      <td>Tasveer Mere Sanam</td>\n",
       "      <td>1996</td>\n",
       "    </tr>\n",
       "    <tr>\n",
       "      <th>1</th>\n",
       "      <td>Only You</td>\n",
       "      <td>1994</td>\n",
       "    </tr>\n",
       "    <tr>\n",
       "      <th>2</th>\n",
       "      <td>El pueblo del terror</td>\n",
       "      <td>1970</td>\n",
       "    </tr>\n",
       "    <tr>\n",
       "      <th>3</th>\n",
       "      <td>Machine</td>\n",
       "      <td>2007</td>\n",
       "    </tr>\n",
       "    <tr>\n",
       "      <th>4</th>\n",
       "      <td>MARy</td>\n",
       "      <td>2008</td>\n",
       "    </tr>\n",
       "    <tr>\n",
       "      <th>...</th>\n",
       "      <td>...</td>\n",
       "      <td>...</td>\n",
       "    </tr>\n",
       "    <tr>\n",
       "      <th>244909</th>\n",
       "      <td>Black Butterfly in a Colorful World</td>\n",
       "      <td>2018</td>\n",
       "    </tr>\n",
       "    <tr>\n",
       "      <th>244910</th>\n",
       "      <td>Hua fei hua wu chun man cheng</td>\n",
       "      <td>1980</td>\n",
       "    </tr>\n",
       "    <tr>\n",
       "      <th>244911</th>\n",
       "      <td>Nippon dabi katsukyu</td>\n",
       "      <td>1970</td>\n",
       "    </tr>\n",
       "    <tr>\n",
       "      <th>244912</th>\n",
       "      <td>Under Siege 2: Dark Territory</td>\n",
       "      <td>1995</td>\n",
       "    </tr>\n",
       "    <tr>\n",
       "      <th>244913</th>\n",
       "      <td>She Must Be Seeing Things</td>\n",
       "      <td>1987</td>\n",
       "    </tr>\n",
       "  </tbody>\n",
       "</table>\n",
       "<p>244914 rows × 2 columns</p>\n",
       "</div>"
      ],
      "text/plain": [
       "                                      title  year\n",
       "0                        Tasveer Mere Sanam  1996\n",
       "1                                  Only You  1994\n",
       "2                      El pueblo del terror  1970\n",
       "3                                   Machine  2007\n",
       "4                                      MARy  2008\n",
       "...                                     ...   ...\n",
       "244909  Black Butterfly in a Colorful World  2018\n",
       "244910        Hua fei hua wu chun man cheng  1980\n",
       "244911                 Nippon dabi katsukyu  1970\n",
       "244912        Under Siege 2: Dark Territory  1995\n",
       "244913            She Must Be Seeing Things  1987\n",
       "\n",
       "[244914 rows x 2 columns]"
      ]
     },
     "execution_count": 4,
     "metadata": {},
     "output_type": "execute_result"
    }
   ],
   "source": [
    "SS=df\n",
    "SS.drop_duplicates()\n",
    "SS.dropna()"
   ]
  },
  {
   "cell_type": "code",
   "execution_count": 5,
   "metadata": {},
   "outputs": [
    {
     "data": {
      "text/plain": [
       "title    0\n",
       "year     0\n",
       "dtype: int64"
      ]
     },
     "execution_count": 5,
     "metadata": {},
     "output_type": "execute_result"
    }
   ],
   "source": [
    "SS.isna().sum()"
   ]
  },
  {
   "cell_type": "code",
   "execution_count": 6,
   "metadata": {},
   "outputs": [],
   "source": [
    "#df = pd.read_csv(r\"C:\\Users\\HP\\Documents\\aiml assignments\\cast ml.csv\")\n",
    "#print(df.head())"
   ]
  },
  {
   "cell_type": "code",
   "execution_count": 7,
   "metadata": {},
   "outputs": [],
   "source": [
    "#df= pd.read_csv(r\"C:\\Users\\HP\\Documents\\aiml assignments\\release dates ml.csv\")\n",
    "#print(df.head())"
   ]
  },
  {
   "cell_type": "code",
   "execution_count": 8,
   "metadata": {},
   "outputs": [
    {
     "name": "stdout",
     "output_type": "stream",
     "text": [
      "6422      2017\n",
      "10637     1921\n",
      "39916     1913\n",
      "52521     1910\n",
      "62000     2000\n",
      "67406     1969\n",
      "82130     1987\n",
      "88065     2016\n",
      "101728    1948\n",
      "122827    1973\n",
      "133921    1976\n",
      "154029    2015\n",
      "161324    1964\n",
      "172640    1954\n",
      "173033    2011\n",
      "178222    1996\n",
      "189093    2009\n",
      "192142    1990\n",
      "198234    1911\n",
      "202025    2014\n",
      "Name: year, dtype: int64\n"
     ]
    }
   ],
   "source": [
    "###When was the first movie titled \\\"Hamlet\\\" made?\n",
    "SS= pd.read_csv(r\"C:\\Users\\HP\\Documents\\aiml assignments\\titles.csv\")\n",
    "small_df=SS[(SS['title']=='Hamlet')]\n",
    "print(small_df[ 'year'])"
   ]
  },
  {
   "cell_type": "code",
   "execution_count": 9,
   "metadata": {},
   "outputs": [
    {
     "name": "stdout",
     "output_type": "stream",
     "text": [
      "total no. of movies under title colomn: 244914\n"
     ]
    }
   ],
   "source": [
    "1### How many movies are listed in the titles dataframe?\n",
    "#df = pd.read_csv(r\"C:\\Users\\HP\\Documents\\aiml assignments\\titles.csv\")\n",
    "print(\"total no. of movies under title colomn:\",SS['title'].count())"
   ]
  },
  {
   "cell_type": "code",
   "execution_count": 10,
   "metadata": {},
   "outputs": [
    {
     "data": {
      "text/html": [
       "<div>\n",
       "<style scoped>\n",
       "    .dataframe tbody tr th:only-of-type {\n",
       "        vertical-align: middle;\n",
       "    }\n",
       "\n",
       "    .dataframe tbody tr th {\n",
       "        vertical-align: top;\n",
       "    }\n",
       "\n",
       "    .dataframe thead th {\n",
       "        text-align: right;\n",
       "    }\n",
       "</style>\n",
       "<table border=\"1\" class=\"dataframe\">\n",
       "  <thead>\n",
       "    <tr style=\"text-align: right;\">\n",
       "      <th></th>\n",
       "      <th>title</th>\n",
       "      <th>year</th>\n",
       "    </tr>\n",
       "  </thead>\n",
       "  <tbody>\n",
       "    <tr>\n",
       "      <th>193222</th>\n",
       "      <td>Miss Jerry</td>\n",
       "      <td>1894</td>\n",
       "    </tr>\n",
       "    <tr>\n",
       "      <th>51388</th>\n",
       "      <td>The Startled Lover</td>\n",
       "      <td>1898</td>\n",
       "    </tr>\n",
       "  </tbody>\n",
       "</table>\n",
       "</div>"
      ],
      "text/plain": [
       "                     title  year\n",
       "193222          Miss Jerry  1894\n",
       "51388   The Startled Lover  1898"
      ]
     },
     "execution_count": 10,
     "metadata": {},
     "output_type": "execute_result"
    }
   ],
   "source": [
    "2###What are the earliest two films listed in the titles dataframe?\"\n",
    "SS.nsmallest(3,['year'])\n",
    "SS.sort_values(by=['year']).head(2)"
   ]
  },
  {
   "cell_type": "code",
   "execution_count": 11,
   "metadata": {},
   "outputs": [
    {
     "data": {
      "text/plain": [
       "20"
      ]
     },
     "execution_count": 11,
     "metadata": {},
     "output_type": "execute_result"
    }
   ],
   "source": [
    "3### How many movies have the title \\\"Hamlet\\\"?\n",
    "#small_df= SS[['title','year']]\n",
    "#result=small_df.sort_values('year')\n",
    "#'title'=='Hamlet'\n",
    "#print(result)\n",
    "#print('the no.of movies have the title Hamlet is:',df['title']=='Hamlet')\n",
    "len(SS[SS['title']=='Hamlet'])"
   ]
  },
  {
   "cell_type": "code",
   "execution_count": 14,
   "metadata": {},
   "outputs": [
    {
     "data": {
      "text/plain": [
       "1"
      ]
     },
     "execution_count": 14,
     "metadata": {},
     "output_type": "execute_result"
    }
   ],
   "source": [
    "4###How many movies are titled \\\"North by Northwest\\\"?\"\n",
    "#result=small_df.sort_values('title'== 'North by Northwest')\n",
    "#print(\"the no. of movies are titled north by northwest are:\",SS['title']== \"North by Northwest\")\n",
    "len(SS[SS['title']=='North by Northwest'])"
   ]
  },
  {
   "cell_type": "code",
   "execution_count": 15,
   "metadata": {},
   "outputs": [
    {
     "name": "stdout",
     "output_type": "stream",
     "text": [
      "        title  year\n",
      "52521  Hamlet  1910\n"
     ]
    }
   ],
   "source": [
    "# When was the first movie titled \\\"Hamlet\\\" made\n",
    "a=SS[SS['title']=='Hamlet']\n",
    "b=a.sort_values(by=['year'])\n",
    "print(b.head(1))"
   ]
  },
  {
   "cell_type": "code",
   "execution_count": 16,
   "metadata": {},
   "outputs": [
    {
     "data": {
      "text/html": [
       "<div>\n",
       "<style scoped>\n",
       "    .dataframe tbody tr th:only-of-type {\n",
       "        vertical-align: middle;\n",
       "    }\n",
       "\n",
       "    .dataframe tbody tr th {\n",
       "        vertical-align: top;\n",
       "    }\n",
       "\n",
       "    .dataframe thead th {\n",
       "        text-align: right;\n",
       "    }\n",
       "</style>\n",
       "<table border=\"1\" class=\"dataframe\">\n",
       "  <thead>\n",
       "    <tr style=\"text-align: right;\">\n",
       "      <th></th>\n",
       "      <th>title</th>\n",
       "      <th>year</th>\n",
       "    </tr>\n",
       "  </thead>\n",
       "  <tbody>\n",
       "    <tr>\n",
       "      <th>55686</th>\n",
       "      <td>Treasure Island</td>\n",
       "      <td>1918</td>\n",
       "    </tr>\n",
       "    <tr>\n",
       "      <th>196514</th>\n",
       "      <td>Treasure Island</td>\n",
       "      <td>1920</td>\n",
       "    </tr>\n",
       "    <tr>\n",
       "      <th>141822</th>\n",
       "      <td>Treasure Island</td>\n",
       "      <td>1934</td>\n",
       "    </tr>\n",
       "    <tr>\n",
       "      <th>77354</th>\n",
       "      <td>Treasure Island</td>\n",
       "      <td>1950</td>\n",
       "    </tr>\n",
       "    <tr>\n",
       "      <th>65051</th>\n",
       "      <td>Treasure Island</td>\n",
       "      <td>1972</td>\n",
       "    </tr>\n",
       "    <tr>\n",
       "      <th>37238</th>\n",
       "      <td>Treasure Island</td>\n",
       "      <td>1973</td>\n",
       "    </tr>\n",
       "    <tr>\n",
       "      <th>173051</th>\n",
       "      <td>Treasure Island</td>\n",
       "      <td>1985</td>\n",
       "    </tr>\n",
       "    <tr>\n",
       "      <th>27076</th>\n",
       "      <td>Treasure Island</td>\n",
       "      <td>1999</td>\n",
       "    </tr>\n",
       "  </tbody>\n",
       "</table>\n",
       "</div>"
      ],
      "text/plain": [
       "                  title  year\n",
       "55686   Treasure Island  1918\n",
       "196514  Treasure Island  1920\n",
       "141822  Treasure Island  1934\n",
       "77354   Treasure Island  1950\n",
       "65051   Treasure Island  1972\n",
       "37238   Treasure Island  1973\n",
       "173051  Treasure Island  1985\n",
       "27076   Treasure Island  1999"
      ]
     },
     "execution_count": 16,
     "metadata": {},
     "output_type": "execute_result"
    }
   ],
   "source": [
    "#List all of the \\\"Treasure Island\\\" movies from earliest to most recent\n",
    "SS[SS['title']=='Treasure Island'].sort_values(by=['year'])"
   ]
  },
  {
   "cell_type": "code",
   "execution_count": 17,
   "metadata": {},
   "outputs": [
    {
     "data": {
      "text/plain": [
       "1113"
      ]
     },
     "execution_count": 17,
     "metadata": {},
     "output_type": "execute_result"
    }
   ],
   "source": [
    "# How many movies were made in the year 1950?\n",
    "len(SS[SS['year']==1950])"
   ]
  },
  {
   "cell_type": "code",
   "execution_count": 18,
   "metadata": {},
   "outputs": [
    {
     "data": {
      "text/plain": [
       "1549"
      ]
     },
     "execution_count": 18,
     "metadata": {},
     "output_type": "execute_result"
    }
   ],
   "source": [
    "# How many movies were made in the year 1960\n",
    "len(SS[SS['year']==1960])"
   ]
  },
  {
   "cell_type": "code",
   "execution_count": 20,
   "metadata": {},
   "outputs": [
    {
     "data": {
      "text/plain": [
       "12934"
      ]
     },
     "execution_count": 20,
     "metadata": {},
     "output_type": "execute_result"
    }
   ],
   "source": [
    "# How many movies were made from 1950 through 1959\n",
    "len(SS[(SS['year']>=1950)&(SS['year']<=1959)])"
   ]
  },
  {
   "cell_type": "code",
   "execution_count": 21,
   "metadata": {},
   "outputs": [
    {
     "name": "stdout",
     "output_type": "stream",
     "text": [
      "The Movies titled Batman were released in below mentioned years:\\n 39349     1943\n",
      "240896    1989\n",
      "Name: year, dtype: int64\n"
     ]
    }
   ],
   "source": [
    "#In what years has a movie titled \\\"Batman\\\" been released?\"\n",
    "print('The Movies titled Batman were released in below mentioned years:\\\\n',(SS[SS['title']=='Batman']).year)"
   ]
  },
  {
   "cell_type": "code",
   "execution_count": 26,
   "metadata": {},
   "outputs": [
    {
     "name": "stdout",
     "output_type": "stream",
     "text": [
      "                  title  year\n",
      "0    Tasveer Mere Sanam  1996\n",
      "1              Only You  1994\n",
      "2  El pueblo del terror  1970\n",
      "3               Machine  2007\n",
      "4                  MARy  2008\n"
     ]
    }
   ],
   "source": [
    "cast = pd.read_csv(r\"C:\\Users\\HP\\Documents\\aiml assignments\\cast ml.csv\")\n",
    "print(df.head())"
   ]
  },
  {
   "cell_type": "code",
   "execution_count": 34,
   "metadata": {},
   "outputs": [
    {
     "name": "stdout",
     "output_type": "stream",
     "text": [
      "The number of roles in the movie Inception are :\n",
      "28\n",
      "Below is the list of the respective cast:              title  year                     name   type  \\\n",
      "98153    Inception  2010     Michael (III) August  actor   \n",
      "149008   Inception  2010             Peter Basham  actor   \n",
      "183937   Inception  2010             Tom Berenger  actor   \n",
      "197877   Inception  2010                 Ken Bhan  actor   \n",
      "260128   Inception  2010           Virgile Bramly  actor   \n",
      "326745   Inception  2010            Michael Caine  actor   \n",
      "333415   Inception  2010             Earl Cameron  actor   \n",
      "374661   Inception  2010            John Ceallach  actor   \n",
      "433867   Inception  2010            Nicolas Clerc  actor   \n",
      "444385   Inception  2010           Adam (IV) Cole  actor   \n",
      "497161   Inception  2010             Garvin Cross  actor   \n",
      "517227   Inception  2010       Jean-Michel Dagory  actor   \n",
      "590576   Inception  2010        Leonardo DiCaprio  actor   \n",
      "684098   Inception  2010            Seve Esposito  actor   \n",
      "690634   Inception  2010      Marcus (II) Everett  actor   \n",
      "707642   Inception  2010  Zachary Christopher Fay  actor   \n",
      "709436   Inception  2010                Russ Fega  actor   \n",
      "737322   Inception  2010         Mark Fleischmann  actor   \n",
      "807795   Inception  2010           Michael Gaston  actor   \n",
      "812135   Inception  2010          Johnathan Geare  actor   \n",
      "832083   Inception  2010            Carl Gilliard  actor   \n",
      "833376   Inception  2010              Jack Gilroy  actor   \n",
      "836295   Inception  2010        Daniel Girondeaud  actor   \n",
      "859993   Inception  2010     Joseph Gordon-Levitt  actor   \n",
      "910757   Inception  2010               Lukas Haas  actor   \n",
      "940923   Inception  2010                Tom Hardy  actor   \n",
      "967176   Inception  2010             Ryan Hayward  actor   \n",
      "1006636  Inception  2010          Andrew Hoagland  actor   \n",
      "\n",
      "                     character     n  \n",
      "98153            LAX Passenger   NaN  \n",
      "149008   Fischer's Jet Captain  44.0  \n",
      "183937                Browning   8.0  \n",
      "197877        Mombasan Gambler   NaN  \n",
      "260128          Bridge Sub Con  29.0  \n",
      "326745                   Miles  11.0  \n",
      "333415        Elderly Bald Man  20.0  \n",
      "374661           LAX Passenger   NaN  \n",
      "433867          Bridge Sub Con  26.0  \n",
      "444385             Bar Sub Con  34.0  \n",
      "497161          Snow Commander   NaN  \n",
      "517227          Bridge Sub Con  30.0  \n",
      "590576                    Cobb   1.0  \n",
      "684098         Italian Gambler   NaN  \n",
      "690634            Stock Broker   NaN  \n",
      "707642                   Extra   NaN  \n",
      "709436              Cab Driver  23.0  \n",
      "737322         Penrose Sub Con  32.0  \n",
      "807795     Immigration Officer  45.0  \n",
      "812135         James (3 years)  17.0  \n",
      "832083           Lobby Sub Con  40.0  \n",
      "833376                Old Cobb  50.0  \n",
      "836295          Bridge Sub Con   NaN  \n",
      "859993                  Arthur   2.0  \n",
      "910757                    Nash  12.0  \n",
      "940923                   Eames   4.0  \n",
      "967176                  Lawyer  21.0  \n",
      "1006636             Pedestrian   NaN  \n"
     ]
    }
   ],
   "source": [
    "#How many roles were there in the movie \\\"Inception\\\"?\"\n",
    "print(\"The number of roles in the movie Inception are :\")\n",
    "print(len(cast[cast['title']=='Inception'].type))\n",
    "print(\"Below is the list of the respective cast:\",cast[cast['title']=='Inception'])"
   ]
  },
  {
   "cell_type": "code",
   "execution_count": 35,
   "metadata": {},
   "outputs": [
    {
     "name": "stdout",
     "output_type": "stream",
     "text": [
      "The count of roles in the movie Inception not ranked by n value are:\n",
      "9\n"
     ]
    }
   ],
   "source": [
    "#How many roles in the movie \\\"Inception\\\" are NOT ranked by an \\\"n\\\" value\n",
    "print(\"The count of roles in the movie Inception not ranked by n value are:\")\n",
    "print(len(cast[(cast['title']=='Inception')&(cast['n'].isnull()==True)].type))"
   ]
  },
  {
   "cell_type": "code",
   "execution_count": 36,
   "metadata": {},
   "outputs": [
    {
     "name": "stdout",
     "output_type": "stream",
     "text": [
      "The count of roles in the movie Inception with n value are:\n",
      "19\n"
     ]
    }
   ],
   "source": [
    "#But how many roles in the movie \\\"Inception\\\" did receive an \\\"n\\\" value?\"\n",
    "print(\"The count of roles in the movie Inception with n value are:\")\n",
    "print(len(cast[(cast['title']=='Inception')&(cast['n'].isnull()==False)].type))"
   ]
  },
  {
   "cell_type": "code",
   "execution_count": 38,
   "metadata": {},
   "outputs": [
    {
     "name": "stdout",
     "output_type": "stream",
     "text": [
      "The cast of North by Northwest in their correct n-value order value with n values are:\n",
      "871426           Cary Grant\n",
      "356707       Leo G. Carroll\n",
      "665768    Robert Ellenstein\n",
      "464736      Philip Coolidge\n",
      "206471         Edward Binns\n",
      "Name: name, dtype: object\n"
     ]
    }
   ],
   "source": [
    "#Display the cast of \\\"North by Northwest\\\" in their correct \\\"n\\\"-value order, ignoring roles that did not earn a numeric \\\"n\\\" value.\n",
    "print(\"The cast of North by Northwest in their correct n-value order value with n values are:\")\n",
    "print(cast[(cast['title']==\"North by Northwest\")&(cast['n'].isnull()==False)].sort_values(by=['n']).name)"
   ]
  },
  {
   "cell_type": "code",
   "execution_count": 39,
   "metadata": {},
   "outputs": [
    {
     "name": "stdout",
     "output_type": "stream",
     "text": [
      "The entire cast in n-order of the 1972 film Sleuth are:\n",
      "         title  year            name   type          character    n\n",
      "326773  Sleuth  1972   Michael Caine  actor        Milo Tindle  2.0\n",
      "373876  Sleuth  1972  Alec Cawthorne  actor  Inspector Doppler  3.0\n"
     ]
    }
   ],
   "source": [
    "#Display the entire cast, in \\\"n\\\"-order, of the 1972 film \\\"Sleuth\\\".\"\n",
    "print(\"The entire cast in n-order of the 1972 film Sleuth are:\")\n",
    "print((cast[(cast['title']==\"Sleuth\")&(cast['year']==1972)]).sort_values(by=['n']))"
   ]
  },
  {
   "cell_type": "code",
   "execution_count": 40,
   "metadata": {},
   "outputs": [
    {
     "name": "stdout",
     "output_type": "stream",
     "text": [
      "The entire cast in n-order of the 2007 version of Sleuth:\n",
      "         title  year                 name   type          character    n\n",
      "326774  Sleuth  2007        Michael Caine  actor             Andrew  1.0\n",
      "260242  Sleuth  2007      Kenneth Branagh  actor  Other Man on T.V.  NaN\n",
      "373877  Sleuth  2007  Alec (II) Cawthorne  actor  Inspector Doppler  NaN\n"
     ]
    }
   ],
   "source": [
    "#Now display the entire cast, in \\\"n\\\"-order, of the 2007 version of \\\"Sleuth\n",
    "print(\"The entire cast in n-order of the 2007 version of Sleuth:\")\n",
    "print(cast[(cast['title']==\"Sleuth\")&(cast['year']==2007)].sort_values(by=['n']))"
   ]
  },
  {
   "cell_type": "code",
   "execution_count": 41,
   "metadata": {},
   "outputs": [
    {
     "name": "stdout",
     "output_type": "stream",
     "text": [
      "The count of roles that were credited in the silent 1921 version of Hamlet are:\n",
      "3\n"
     ]
    }
   ],
   "source": [
    "#How many roles were credited in the silent 1921 version of Hamlet?\"\n",
    "print(\"The count of roles that were credited in the silent 1921 version of Hamlet are:\")\n",
    "print(len(cast[(cast['title']=='Hamlet')&(cast['year']==1921)]))"
   ]
  },
  {
   "cell_type": "code",
   "execution_count": 42,
   "metadata": {},
   "outputs": [
    {
     "name": "stdout",
     "output_type": "stream",
     "text": [
      "The count of roles that were credited in the Branagh's 1996 Hamlet are:\n",
      "22\n"
     ]
    }
   ],
   "source": [
    "#How many roles were credited in Branaghâ€™s 1996 Hamlet?\"\n",
    "print(\"The count of roles that were credited in the Branagh's 1996 Hamlet are:\")\n",
    "print(len(cast[(cast['title']=='Hamlet')&(cast['year']==1996)]))"
   ]
  },
  {
   "cell_type": "code",
   "execution_count": 43,
   "metadata": {},
   "outputs": [
    {
     "name": "stdout",
     "output_type": "stream",
     "text": [
      "The count of Hamlet roles that have been listed in all film credits through the history are:\n",
      "117\n"
     ]
    }
   ],
   "source": [
    "#How many \\\"Hamlet\\\" roles have been listed in all film credits through history?\"\n",
    "print(\"The count of Hamlet roles that have been listed in all film credits through the history are:\")\n",
    "print(len(cast[(cast['title']=='Hamlet')]))"
   ]
  },
  {
   "cell_type": "code",
   "execution_count": 44,
   "metadata": {},
   "outputs": [
    {
     "name": "stdout",
     "output_type": "stream",
     "text": [
      "People who played Ophelia are:\n",
      "248251        Amy Bourque\n",
      "410247     Josie Chisholm\n",
      "470859    Crystal Cordero\n",
      "866334      Lucas Grabeel\n",
      "Name: name, dtype: object\n"
     ]
    }
   ],
   "source": [
    "#How many people have played an \\\"Ophelia\\\"?\"\n",
    "print(\"People who played Ophelia are:\")\n",
    "print(cast[cast['character']=='Ophelia'].name)"
   ]
  },
  {
   "cell_type": "code",
   "execution_count": 45,
   "metadata": {},
   "outputs": [
    {
     "name": "stdout",
     "output_type": "stream",
     "text": [
      "People who played The Dude are:\n",
      "272161          Jeff Bridges\n",
      "339389           Jordan Cann\n",
      "498660         Scott Crowell\n",
      "570128        Chris DeMarcus\n",
      "610791           Mike Donlin\n",
      "629473        Devin The Dude\n",
      "855976    Michael D. Goodwin\n",
      "Name: name, dtype: object\n"
     ]
    }
   ],
   "source": [
    "#\"# How many people have played a role called \\\"The Dude\\\n",
    "print(\"People who played The Dude are:\")\n",
    "print(cast[cast['character']=='The Dude'].name)"
   ]
  },
  {
   "cell_type": "code",
   "execution_count": 46,
   "metadata": {},
   "outputs": [
    {
     "name": "stdout",
     "output_type": "stream",
     "text": [
      "People who played The Stranger are:\n",
      "25954      Hassan Mutlag Al-Maraiyeh\n",
      "35748           Vincent H. Alexander\n",
      "46418                   Terral Altom\n",
      "67421                   Tony Anthony\n",
      "67424                   Tony Anthony\n",
      "                     ...            \n",
      "980374               Lance Henriksen\n",
      "994124                     Dan Hicks\n",
      "1000537                George Hilton\n",
      "1027457                  Lee Horsley\n",
      "1034131                Kevin Howarth\n",
      "Name: name, Length: 84, dtype: object\n"
     ]
    }
   ],
   "source": [
    "#How many people have played a role called \\\"The Stranger\\\"?\"\n",
    "print(\"People who played The Stranger are:\")\n",
    "print(cast[cast['character']=='The Stranger'].name)"
   ]
  },
  {
   "cell_type": "code",
   "execution_count": 47,
   "metadata": {},
   "outputs": [
    {
     "name": "stdout",
     "output_type": "stream",
     "text": [
      "The count of roles played by Sidney Poitier are:\n",
      "0\n"
     ]
    }
   ],
   "source": [
    "#How many roles has Sidney Poitier played throughout his career?\"\n",
    "print(\"The count of roles played by Sidney Poitier are:\")\n",
    "print(len(cast[cast['name']=='Sidney Poitier']))"
   ]
  },
  {
   "cell_type": "code",
   "execution_count": 48,
   "metadata": {},
   "outputs": [
    {
     "name": "stdout",
     "output_type": "stream",
     "text": [
      "The count of roles played by Judi Dench are:\n",
      "0\n"
     ]
    }
   ],
   "source": [
    "#How many roles has Judi Dench played?\"\n",
    "print(\"The count of roles played by Judi Dench are:\")\n",
    "print(len(cast[cast['name']=='Judi Dench']))"
   ]
  },
  {
   "cell_type": "code",
   "execution_count": 49,
   "metadata": {},
   "outputs": [
    {
     "name": "stdout",
     "output_type": "stream",
     "text": [
      "List the supporting roles (having n=2) played by Cary Grant in the 1940s, in order by year. are:\n"
     ]
    },
    {
     "data": {
      "text/html": [
       "<div>\n",
       "<style scoped>\n",
       "    .dataframe tbody tr th:only-of-type {\n",
       "        vertical-align: middle;\n",
       "    }\n",
       "\n",
       "    .dataframe tbody tr th {\n",
       "        vertical-align: top;\n",
       "    }\n",
       "\n",
       "    .dataframe thead th {\n",
       "        text-align: right;\n",
       "    }\n",
       "</style>\n",
       "<table border=\"1\" class=\"dataframe\">\n",
       "  <thead>\n",
       "    <tr style=\"text-align: right;\">\n",
       "      <th></th>\n",
       "      <th>title</th>\n",
       "      <th>year</th>\n",
       "      <th>name</th>\n",
       "      <th>type</th>\n",
       "      <th>character</th>\n",
       "      <th>n</th>\n",
       "    </tr>\n",
       "  </thead>\n",
       "  <tbody>\n",
       "    <tr>\n",
       "      <th>871423</th>\n",
       "      <td>My Favorite Wife</td>\n",
       "      <td>1940</td>\n",
       "      <td>Cary Grant</td>\n",
       "      <td>actor</td>\n",
       "      <td>Nick Arden</td>\n",
       "      <td>2.0</td>\n",
       "    </tr>\n",
       "    <tr>\n",
       "      <th>871433</th>\n",
       "      <td>Penny Serenade</td>\n",
       "      <td>1941</td>\n",
       "      <td>Cary Grant</td>\n",
       "      <td>actor</td>\n",
       "      <td>Roger Adams</td>\n",
       "      <td>2.0</td>\n",
       "    </tr>\n",
       "  </tbody>\n",
       "</table>\n",
       "</div>"
      ],
      "text/plain": [
       "                   title  year        name   type    character    n\n",
       "871423  My Favorite Wife  1940  Cary Grant  actor   Nick Arden  2.0\n",
       "871433    Penny Serenade  1941  Cary Grant  actor  Roger Adams  2.0"
      ]
     },
     "execution_count": 49,
     "metadata": {},
     "output_type": "execute_result"
    }
   ],
   "source": [
    "#List the supporting roles (having n=2) played by Cary Grant in the 1940s, in order by year.\"\n",
    "print(\"List the supporting roles (having n=2) played by Cary Grant in the 1940s, in order by year. are:\")\n",
    "cast[(cast['name']=='Cary Grant')&(cast['n']==2)&(cast['year']>=1940)&(cast['year']<=1949)].sort_values(by=['year'])"
   ]
  },
  {
   "cell_type": "code",
   "execution_count": 50,
   "metadata": {},
   "outputs": [
    {
     "name": "stdout",
     "output_type": "stream",
     "text": [
      " List the leading roles that Cary Grant played in the 1940s in order by year. are:\n"
     ]
    },
    {
     "data": {
      "text/html": [
       "<div>\n",
       "<style scoped>\n",
       "    .dataframe tbody tr th:only-of-type {\n",
       "        vertical-align: middle;\n",
       "    }\n",
       "\n",
       "    .dataframe tbody tr th {\n",
       "        vertical-align: top;\n",
       "    }\n",
       "\n",
       "    .dataframe thead th {\n",
       "        text-align: right;\n",
       "    }\n",
       "</style>\n",
       "<table border=\"1\" class=\"dataframe\">\n",
       "  <thead>\n",
       "    <tr style=\"text-align: right;\">\n",
       "      <th></th>\n",
       "      <th>title</th>\n",
       "      <th>year</th>\n",
       "      <th>name</th>\n",
       "      <th>type</th>\n",
       "      <th>character</th>\n",
       "      <th>n</th>\n",
       "    </tr>\n",
       "  </thead>\n",
       "  <tbody>\n",
       "    <tr>\n",
       "      <th>871448</th>\n",
       "      <td>The Howards of Virginia</td>\n",
       "      <td>1940</td>\n",
       "      <td>Cary Grant</td>\n",
       "      <td>actor</td>\n",
       "      <td>Matt Howard</td>\n",
       "      <td>1.0</td>\n",
       "    </tr>\n",
       "    <tr>\n",
       "      <th>871407</th>\n",
       "      <td>His Girl Friday</td>\n",
       "      <td>1940</td>\n",
       "      <td>Cary Grant</td>\n",
       "      <td>actor</td>\n",
       "      <td>Walter Burns</td>\n",
       "      <td>1.0</td>\n",
       "    </tr>\n",
       "    <tr>\n",
       "      <th>871450</th>\n",
       "      <td>The Philadelphia Story</td>\n",
       "      <td>1940</td>\n",
       "      <td>Cary Grant</td>\n",
       "      <td>actor</td>\n",
       "      <td>C. K. Dexter Haven</td>\n",
       "      <td>1.0</td>\n",
       "    </tr>\n",
       "    <tr>\n",
       "      <th>871438</th>\n",
       "      <td>Suspicion</td>\n",
       "      <td>1941</td>\n",
       "      <td>Cary Grant</td>\n",
       "      <td>actor</td>\n",
       "      <td>Johnnie Aysgarth</td>\n",
       "      <td>1.0</td>\n",
       "    </tr>\n",
       "    <tr>\n",
       "      <th>871452</th>\n",
       "      <td>The Talk of the Town</td>\n",
       "      <td>1942</td>\n",
       "      <td>Cary Grant</td>\n",
       "      <td>actor</td>\n",
       "      <td>Leopold Dilg</td>\n",
       "      <td>1.0</td>\n",
       "    </tr>\n",
       "    <tr>\n",
       "      <th>871429</th>\n",
       "      <td>Once Upon a Honeymoon</td>\n",
       "      <td>1942</td>\n",
       "      <td>Cary Grant</td>\n",
       "      <td>actor</td>\n",
       "      <td>Patrick 'Pat' O'Toole</td>\n",
       "      <td>1.0</td>\n",
       "    </tr>\n",
       "    <tr>\n",
       "      <th>871398</th>\n",
       "      <td>Destination Tokyo</td>\n",
       "      <td>1943</td>\n",
       "      <td>Cary Grant</td>\n",
       "      <td>actor</td>\n",
       "      <td>Capt. Cassidy</td>\n",
       "      <td>1.0</td>\n",
       "    </tr>\n",
       "    <tr>\n",
       "      <th>871422</th>\n",
       "      <td>Mr. Lucky</td>\n",
       "      <td>1943</td>\n",
       "      <td>Cary Grant</td>\n",
       "      <td>actor</td>\n",
       "      <td>Joe Adams -posing as Joe Bascopolous</td>\n",
       "      <td>1.0</td>\n",
       "    </tr>\n",
       "    <tr>\n",
       "      <th>871430</th>\n",
       "      <td>Once Upon a Time</td>\n",
       "      <td>1944</td>\n",
       "      <td>Cary Grant</td>\n",
       "      <td>actor</td>\n",
       "      <td>Jerry Flynn</td>\n",
       "      <td>1.0</td>\n",
       "    </tr>\n",
       "    <tr>\n",
       "      <th>871390</th>\n",
       "      <td>Arsenic and Old Lace</td>\n",
       "      <td>1944</td>\n",
       "      <td>Cary Grant</td>\n",
       "      <td>actor</td>\n",
       "      <td>Mortimer Brewster</td>\n",
       "      <td>1.0</td>\n",
       "    </tr>\n",
       "    <tr>\n",
       "      <th>871425</th>\n",
       "      <td>None But the Lonely Heart</td>\n",
       "      <td>1944</td>\n",
       "      <td>Cary Grant</td>\n",
       "      <td>actor</td>\n",
       "      <td>Ernie Mott</td>\n",
       "      <td>1.0</td>\n",
       "    </tr>\n",
       "    <tr>\n",
       "      <th>871424</th>\n",
       "      <td>Night and Day</td>\n",
       "      <td>1946</td>\n",
       "      <td>Cary Grant</td>\n",
       "      <td>actor</td>\n",
       "      <td>Cole Porter</td>\n",
       "      <td>1.0</td>\n",
       "    </tr>\n",
       "    <tr>\n",
       "      <th>871427</th>\n",
       "      <td>Notorious</td>\n",
       "      <td>1946</td>\n",
       "      <td>Cary Grant</td>\n",
       "      <td>actor</td>\n",
       "      <td>Devlin</td>\n",
       "      <td>1.0</td>\n",
       "    </tr>\n",
       "    <tr>\n",
       "      <th>871444</th>\n",
       "      <td>The Bachelor and the Bobby-Soxer</td>\n",
       "      <td>1947</td>\n",
       "      <td>Cary Grant</td>\n",
       "      <td>actor</td>\n",
       "      <td>Dick Nugent</td>\n",
       "      <td>1.0</td>\n",
       "    </tr>\n",
       "    <tr>\n",
       "      <th>871445</th>\n",
       "      <td>The Bishop's Wife</td>\n",
       "      <td>1947</td>\n",
       "      <td>Cary Grant</td>\n",
       "      <td>actor</td>\n",
       "      <td>Dudley</td>\n",
       "      <td>1.0</td>\n",
       "    </tr>\n",
       "    <tr>\n",
       "      <th>871421</th>\n",
       "      <td>Mr. Blandings Builds His Dream House</td>\n",
       "      <td>1948</td>\n",
       "      <td>Cary Grant</td>\n",
       "      <td>actor</td>\n",
       "      <td>Jim Blandings</td>\n",
       "      <td>1.0</td>\n",
       "    </tr>\n",
       "    <tr>\n",
       "      <th>871402</th>\n",
       "      <td>Every Girl Should Be Married</td>\n",
       "      <td>1948</td>\n",
       "      <td>Cary Grant</td>\n",
       "      <td>actor</td>\n",
       "      <td>Dr. Madison Brown</td>\n",
       "      <td>1.0</td>\n",
       "    </tr>\n",
       "    <tr>\n",
       "      <th>871411</th>\n",
       "      <td>I Was a Male War Bride</td>\n",
       "      <td>1949</td>\n",
       "      <td>Cary Grant</td>\n",
       "      <td>actor</td>\n",
       "      <td>Captain Henri Rochard</td>\n",
       "      <td>1.0</td>\n",
       "    </tr>\n",
       "  </tbody>\n",
       "</table>\n",
       "</div>"
      ],
      "text/plain": [
       "                                       title  year        name   type  \\\n",
       "871448               The Howards of Virginia  1940  Cary Grant  actor   \n",
       "871407                       His Girl Friday  1940  Cary Grant  actor   \n",
       "871450                The Philadelphia Story  1940  Cary Grant  actor   \n",
       "871438                             Suspicion  1941  Cary Grant  actor   \n",
       "871452                  The Talk of the Town  1942  Cary Grant  actor   \n",
       "871429                 Once Upon a Honeymoon  1942  Cary Grant  actor   \n",
       "871398                     Destination Tokyo  1943  Cary Grant  actor   \n",
       "871422                             Mr. Lucky  1943  Cary Grant  actor   \n",
       "871430                      Once Upon a Time  1944  Cary Grant  actor   \n",
       "871390                  Arsenic and Old Lace  1944  Cary Grant  actor   \n",
       "871425             None But the Lonely Heart  1944  Cary Grant  actor   \n",
       "871424                         Night and Day  1946  Cary Grant  actor   \n",
       "871427                             Notorious  1946  Cary Grant  actor   \n",
       "871444      The Bachelor and the Bobby-Soxer  1947  Cary Grant  actor   \n",
       "871445                     The Bishop's Wife  1947  Cary Grant  actor   \n",
       "871421  Mr. Blandings Builds His Dream House  1948  Cary Grant  actor   \n",
       "871402          Every Girl Should Be Married  1948  Cary Grant  actor   \n",
       "871411                I Was a Male War Bride  1949  Cary Grant  actor   \n",
       "\n",
       "                                   character    n  \n",
       "871448                           Matt Howard  1.0  \n",
       "871407                          Walter Burns  1.0  \n",
       "871450                    C. K. Dexter Haven  1.0  \n",
       "871438                      Johnnie Aysgarth  1.0  \n",
       "871452                          Leopold Dilg  1.0  \n",
       "871429                 Patrick 'Pat' O'Toole  1.0  \n",
       "871398                         Capt. Cassidy  1.0  \n",
       "871422  Joe Adams -posing as Joe Bascopolous  1.0  \n",
       "871430                           Jerry Flynn  1.0  \n",
       "871390                     Mortimer Brewster  1.0  \n",
       "871425                            Ernie Mott  1.0  \n",
       "871424                           Cole Porter  1.0  \n",
       "871427                                Devlin  1.0  \n",
       "871444                           Dick Nugent  1.0  \n",
       "871445                                Dudley  1.0  \n",
       "871421                         Jim Blandings  1.0  \n",
       "871402                     Dr. Madison Brown  1.0  \n",
       "871411                 Captain Henri Rochard  1.0  "
      ]
     },
     "execution_count": 50,
     "metadata": {},
     "output_type": "execute_result"
    }
   ],
   "source": [
    "#\"# List the leading roles that Cary Grant played in the 1940s in order by year\n",
    "print(\" List the leading roles that Cary Grant played in the 1940s in order by year. are:\")\n",
    "cast[(cast['name']=='Cary Grant')&(cast['n']==1)&(cast['year']>=1940)&(cast['year']<=1949)].sort_values(by=['year'])\n"
   ]
  },
  {
   "cell_type": "code",
   "execution_count": 51,
   "metadata": {},
   "outputs": [
    {
     "name": "stdout",
     "output_type": "stream",
     "text": [
      "The count of roles available for actors in 1950s are:\n",
      "66653\n"
     ]
    }
   ],
   "source": [
    "#How many roles were available for actors in the 1950s?\n",
    "print(\"The count of roles available for actors in 1950s are:\")\n",
    "print(len(cast[(cast['year']>=1950)&(cast['year']<=1959)&(cast['type']=='actor')].type))"
   ]
  },
  {
   "cell_type": "code",
   "execution_count": 52,
   "metadata": {},
   "outputs": [
    {
     "name": "stdout",
     "output_type": "stream",
     "text": [
      "The count of roles available for actresses in 1950s are:\n",
      "0\n"
     ]
    }
   ],
   "source": [
    "#\"# How many roles were available for actresses in the 1950s\n",
    "print(\"The count of roles available for actresses in 1950s are:\")\n",
    "print(len(cast[(cast['year']>=1950)&(cast['year']<=1959)&(cast['type']=='actress')].type))"
   ]
  },
  {
   "cell_type": "code",
   "execution_count": 53,
   "metadata": {},
   "outputs": [
    {
     "name": "stdout",
     "output_type": "stream",
     "text": [
      "The count of non-leading roles available from the beginning of film history through 1980 are:\n",
      "346128\n"
     ]
    }
   ],
   "source": [
    "#How many non-leading roles were available through from the beginning of film history through 1980\n",
    "print(\"The count of non-leading roles available from the beginning of film history through 1980 are:\")\n",
    "print(len(cast[(cast['year']<=1980)&(cast['n']!=1)].type))"
   ]
  },
  {
   "cell_type": "code",
   "execution_count": 54,
   "metadata": {},
   "outputs": [
    {
     "name": "stdout",
     "output_type": "stream",
     "text": [
      "The count of roles through 1980 that were minor enough and did not warrant a numeric n rank are:\n",
      "1251\n"
     ]
    }
   ],
   "source": [
    "#How many roles through 1980 were minor enough that they did not warrant a numeric \\\"n\\\" rank?\"\n",
    "print(\"The count of roles through 1980 that were minor enough and did not warrant a numeric n rank are:\")\n",
    "print(len(cast[(cast['year']==1980)&(cast['n'].isnull()==True)]))"
   ]
  }
 ],
 "metadata": {
  "kernelspec": {
   "display_name": "Python 3",
   "language": "python",
   "name": "python3"
  },
  "language_info": {
   "codemirror_mode": {
    "name": "ipython",
    "version": 3
   },
   "file_extension": ".py",
   "mimetype": "text/x-python",
   "name": "python",
   "nbconvert_exporter": "python",
   "pygments_lexer": "ipython3",
   "version": "3.8.3"
  }
 },
 "nbformat": 4,
 "nbformat_minor": 4
}
