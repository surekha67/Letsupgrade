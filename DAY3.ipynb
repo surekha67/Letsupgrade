{
 "cells": [
  {
   "cell_type": "code",
   "execution_count": 22,
   "metadata": {},
   "outputs": [
    {
     "name": "stdout",
     "output_type": "stream",
     "text": [
      "(-5-4j)\n"
     ]
    }
   ],
   "source": [
    "A = complex(1,3)\n",
    "B = complex(6,7)\n",
    "C = A - B\n",
    "print C "
   ]
  },
  {
   "cell_type": "code",
   "execution_count": 36,
   "metadata": {},
   "outputs": [
    {
     "name": "stdout",
     "output_type": "stream",
     "text": [
      "('4th root value is ', 1.0)\n"
     ]
    }
   ],
   "source": [
    "A = 16\n",
    "B = 0.5\n",
    "C = B**(1/A)\n",
    "print(\"4th root value is \" ,C)"
   ]
  },
  {
   "cell_type": "code",
   "execution_count": 40,
   "metadata": {},
   "outputs": [
    {
     "name": "stdout",
     "output_type": "stream",
     "text": [
      "('the value of X after swaping is =', 15)\n",
      "('the value of Y after swaping is =', 5)\n"
     ]
    }
   ],
   "source": [
    "X = 5\n",
    "Y =15\n",
    "Temp = X\n",
    "X = Y\n",
    "Y =Temp\n",
    "print('the value of X after swaping is =',X)\n",
    "print('the value of Y after swaping is =',Y)"
   ]
  },
  {
   "cell_type": "code",
   "execution_count": 44,
   "metadata": {},
   "outputs": [
    {
     "name": "stdout",
     "output_type": "stream",
     "text": [
      "('X=', 15)\n",
      "('Y=', 5)\n"
     ]
    }
   ],
   "source": [
    "X = 5\n",
    "Y =15\n",
    "X , Y = Y, X\n",
    "print(\"X=\",X)\n",
    "print(\"Y=\",Y)"
   ]
  },
  {
   "cell_type": "code",
   "execution_count": 57,
   "metadata": {},
   "outputs": [
    {
     "name": "stdout",
     "output_type": "stream",
     "text": [
      "('temperature in kelvin is =', 288.7055555555556)\n"
     ]
    }
   ],
   "source": [
    "F =60\n",
    "K =(F+459.67)*5/9\n",
    "print('temperature in kelvin is =',K)"
   ]
  },
  {
   "cell_type": "code",
   "execution_count": 60,
   "metadata": {},
   "outputs": [
    {
     "name": "stdout",
     "output_type": "stream",
     "text": [
      "('temperature in celcius is =', 26)\n"
     ]
    }
   ],
   "source": [
    "F=80\n",
    "C=(F-32)*5/9\n",
    "print('temperature in celcius is =',C)"
   ]
  },
  {
   "cell_type": "code",
   "execution_count": 63,
   "metadata": {},
   "outputs": [
    {
     "name": "stdout",
     "output_type": "stream",
     "text": [
      "(10, 'is a type of', <type 'int'>)\n",
      "(30.678, 'is a type of', <type 'float'>)\n",
      "((3+8j), 'is a type of', <type 'complex'>)\n",
      "('mobile', 'is a type of', <type 'str'>)\n",
      "([1, 2, 3, 4.5], 'is a type of', <type 'list'>)\n",
      "((6, 7, 8, 9, 0), 'is a type of', <type 'tuple'>)\n",
      "(set([1, 3, 9, 5, 7]), 'is a type of', <type 'set'>)\n"
     ]
    }
   ],
   "source": [
    "a = 10\n",
    "b = 30.678\n",
    "c = 3+8j\n",
    "d = 'mobile'\n",
    "e = [1,2,3,4.5]\n",
    "f = (6,7,8,9,0)\n",
    "g = {1,3,5,7,9}\n",
    "print(a, 'is a type of',type(a))\n",
    "print(b, 'is a type of',type(b))\n",
    "print(c, 'is a type of',type(c))\n",
    "print(d, 'is a type of',type(d))\n",
    "print(e, 'is a type of',type(e))\n",
    "print(f, 'is a type of',type(f))\n",
    "print(g, 'is a type of',type(g))"
   ]
  },
  {
   "cell_type": "markdown",
   "metadata": {},
   "source": [
    "# 2***3\n",
    "\n",
    "## Hi\n",
    "\n",
    "__hello world__\n",
    "\n",
    "___welcome to my computer___"
   ]
  },
  {
   "cell_type": "code",
   "execution_count": null,
   "metadata": {},
   "outputs": [],
   "source": []
  }
 ],
 "metadata": {
  "kernelspec": {
   "display_name": "Python 2",
   "language": "python",
   "name": "python2"
  },
  "language_info": {
   "codemirror_mode": {
    "name": "ipython",
    "version": 2
   },
   "file_extension": ".py",
   "mimetype": "text/x-python",
   "name": "python",
   "nbconvert_exporter": "python",
   "pygments_lexer": "ipython2",
   "version": "2.7.16"
  }
 },
 "nbformat": 4,
 "nbformat_minor": 2
}
