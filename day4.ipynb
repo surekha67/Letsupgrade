{
 "cells": [
  {
   "cell_type": "code",
   "execution_count": 5,
   "metadata": {},
   "outputs": [
    {
     "name": "stdout",
     "output_type": "stream",
     "text": [
      "('addition of complex number is =', (8+10j))\n",
      "('substraction of complex number is =', (-2-2j))\n",
      "('multiplication of complex number is =', (-9+38j))\n",
      "('division of complex number is =', (0.6393442622950819+0.03278688524590165j))\n",
      "('modulo of complex number is =', (3+4j))\n",
      "('floor div of complex number is =', 0j)\n"
     ]
    },
    {
     "name": "stderr",
     "output_type": "stream",
     "text": [
      "C:\\Users\\HP\\Anaconda2\\lib\\site-packages\\ipykernel_launcher.py:7: DeprecationWarning: complex divmod(), // and % are deprecated\n",
      "  import sys\n",
      "C:\\Users\\HP\\Anaconda2\\lib\\site-packages\\ipykernel_launcher.py:8: DeprecationWarning: complex divmod(), // and % are deprecated\n",
      "  \n"
     ]
    }
   ],
   "source": [
    "a = complex(3,4)\n",
    "b = complex(5,6)\n",
    "c = a+b\n",
    "d = a-b\n",
    "e = a*b\n",
    "f = a/b\n",
    "g = a%b\n",
    "h = a//b\n",
    "print('addition of complex number is =',c)\n",
    "print('substraction of complex number is =',d)\n",
    "print('multiplication of complex number is =',e)\n",
    "print('division of complex number is =',f)\n",
    "print('modulo of complex number is =',g)\n",
    "print('floor div of complex number is =',h)"
   ]
  }
 ],
 "metadata": {
  "kernelspec": {
   "display_name": "Python 3",
   "language": "python",
   "name": "python3"
  },
  "language_info": {
   "codemirror_mode": {
    "name": "ipython",
    "version": 3
   },
   "file_extension": ".py",
   "mimetype": "text/x-python",
   "name": "python",
   "nbconvert_exporter": "python",
   "pygments_lexer": "ipython3",
   "version": "3.8.3"
  }
 },
 "nbformat": 4,
 "nbformat_minor": 2
}
